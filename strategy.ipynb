{
 "cells": [
  {
   "cell_type": "code",
   "execution_count": 9,
   "metadata": {},
   "outputs": [],
   "source": [
    "import yfinance as yf\n",
    "import pandas as pd\n",
    "import matplotlib.pyplot as plt\n",
    "import numpy as np\n",
    "import quantstats as qs\n",
    "import warnings\n",
    "warnings.filterwarnings('ignore')\n"
   ]
  },
  {
   "cell_type": "code",
   "execution_count": 10,
   "metadata": {},
   "outputs": [],
   "source": [
    "# Define a function to get data given a list of tickers and clean the data\n",
    "def get_tickers(filepath, start_date = \"2014-01-01\"):\n",
    "    tickers = []\n",
    "    with open(filepath) as file:\n",
    "        for line in file:\n",
    "            tickers.append(line.strip())\n",
    "    data = yf.download(tickers, start = start_date).sort_index()['Adj Close']\n",
    "    clean_data = data[data.isna().sum(axis = 1) != data.shape[1]]\n",
    "    clean_data = clean_data.dropna(axis = 1)\n",
    "    return clean_data"
   ]
  },
  {
   "cell_type": "code",
   "execution_count": 11,
   "metadata": {},
   "outputs": [],
   "source": [
    "def get_worst_performing(stock_data, date, t, n):\n",
    "    date = pd.to_datetime(date)\n",
    "    df = stock_data.copy()[date-pd.DateOffset(days=10):date]\n",
    "    return_df = df.pct_change(periods=t)[-1:]\n",
    "    data_dict = return_df.to_dict(orient='records')[0]\n",
    "    sorted_tickers = sorted(data_dict.items(), key = lambda x: x[1])\n",
    "    return [x[0] for x in sorted_tickers[:n]]\n",
    "    \n",
    "def get_best_performing(stock_data, date, t, n):\n",
    "    date = pd.to_datetime(date)\n",
    "    df = stock_data.copy()[date-pd.DateOffset(days=10):date]\n",
    "    return_df = df.pct_change(periods=t)[-1:]\n",
    "    data_dict = return_df.to_dict(orient='records')[0]\n",
    "    sorted_tickers = sorted(data_dict.items(), key = lambda x: x[1])\n",
    "    return [x[0] for x in sorted_tickers[-n:]]"
   ]
  },
  {
   "cell_type": "code",
   "execution_count": 32,
   "metadata": {},
   "outputs": [],
   "source": [
    "def construct_portfolio(stock_data, start_date = \"2021-01-01\", end_date = \"2023-12-15\", percentage_of_all_stocks_to_buy = 0.1, long_short = False, t = 20, rebalance_period_days = 5):\n",
    "    portfolio = pd.DataFrame(data = np.zeros([len(stock_data),len(stock_data.columns)]), index = stock_data.index, columns=stock_data.columns)\n",
    "    num_stocks = int(stock_data.shape[1] // (1 / percentage_of_all_stocks_to_buy))\n",
    "    weight = 1 / num_stocks if not long_short else 1 / (2 * num_stocks)\n",
    "    start_date = pd.to_datetime(start_date)\n",
    "    end_date = pd.to_datetime(end_date)\n",
    "    last_rebalance_date = start_date - pd.Timedelta(days=rebalance_period_days)\n",
    "    transaction_cost_bps = 5 / 10000\n",
    "    last_long_stocks = set()\n",
    "    last_short_stocks = set() if long_short else None\n",
    "    for date in stock_data[start_date : end_date].index:\n",
    "        if (date - last_rebalance_date).days >= rebalance_period_days:\n",
    "            long_stocks = get_worst_performing(stock_data = stock_data, date = date, t = t, n = num_stocks)\n",
    "            new_long_stocks = set(long_stocks) - last_long_stocks\n",
    "            exited_long_stocks = last_long_stocks - set(long_stocks)\n",
    "            old_long_stocks = last_long_stocks - new_long_stocks\n",
    "            last_long_stocks = set(long_stocks)\n",
    "            for ticker in old_long_stocks:\n",
    "                portfolio.loc[date, ticker] = weight\n",
    "            for ticker in new_long_stocks:\n",
    "                portfolio.loc[date, ticker] = weight - transaction_cost_bps\n",
    "            for ticker in exited_long_stocks:\n",
    "                portfolio.loc[last_date, ticker] -= transaction_cost_bps\n",
    "            if long_short:\n",
    "                short_stocks = get_best_performing(stock_data = stock_data, date = date, t = t, n = num_stocks)\n",
    "                new_short_stocks = set(short_stocks) - last_short_stocks\n",
    "                exited_short_stocks = last_short_stocks - set(short_stocks)\n",
    "                old_short_stocks = last_short_stocks - new_short_stocks\n",
    "                last_short_stocks = set(short_stocks)\n",
    "                for ticker in old_short_stocks:\n",
    "                    portfolio.loc[date, ticker] = -weight\n",
    "                for ticker in new_short_stocks:\n",
    "                    portfolio.loc[date, ticker] = -weight - transaction_cost_bps\n",
    "                for ticker in exited_short_stocks:\n",
    "                    portfolio.loc[last_date, ticker] -= transaction_cost_bps\n",
    "            last_rebalance_date = date\n",
    "        else:\n",
    "            for ticker in long_stocks:\n",
    "                portfolio.loc[date, ticker] = weight\n",
    "            if long_short:\n",
    "                for ticker in short_stocks:\n",
    "                    portfolio.loc[date, ticker] = -weight\n",
    "        last_date = date\n",
    "    return portfolio[start_date : end_date]\n",
    "        "
   ]
  },
  {
   "cell_type": "code",
   "execution_count": 13,
   "metadata": {},
   "outputs": [],
   "source": [
    "def backtest(stock_data, portfolio, index, start_date = \"2021-01-01\", end_date = \"2023-12-15\"):\n",
    "    start_date = pd.to_datetime(start_date)\n",
    "    end_date = pd.to_datetime(end_date)\n",
    "    returns = pd.DataFrame(index = portfolio.index)\n",
    "    return_df = (stock_data).pct_change().shift(-1)[start_date : end_date].dropna()\n",
    "    returns[\"daily_returns\"] = (return_df * portfolio).sum(axis=1)\n",
    "    returns[\"cumulative_returns\"] = (returns[\"daily_returns\"] + 1).cumprod() - 1\n",
    "    returns[\"cumulative_%_returns\"] = (returns[\"cumulative_returns\"]) * 100\n",
    "    returns['index_returns'] = index.pct_change().shift(-1)\n",
    "    returns[\"index_cumulative_returns\"] = (returns[\"index_returns\"] + 1).cumprod() - 1\n",
    "    returns[\"index_cumulative_%_returns\"] = (returns[\"index_cumulative_returns\"]) * 100\n",
    "    return returns"
   ]
  },
  {
   "cell_type": "code",
   "execution_count": 14,
   "metadata": {},
   "outputs": [
    {
     "name": "stdout",
     "output_type": "stream",
     "text": [
      "[*********************100%%**********************]  503 of 503 completed"
     ]
    },
    {
     "name": "stderr",
     "output_type": "stream",
     "text": [
      "\n",
      "2 Failed downloads:\n",
      "['BRK.B']: Exception('%ticker%: No timezone found, symbol may be delisted')\n",
      "['BF.B']: Exception('%ticker%: No price data found, symbol may be delisted (1d 2014-01-01 -> 2024-01-28)')\n"
     ]
    },
    {
     "name": "stdout",
     "output_type": "stream",
     "text": [
      "\n"
     ]
    }
   ],
   "source": [
    "# Get the Data\n",
    "filepath = './s&p500.txt'\n",
    "index_ticker = \"SPY\"\n",
    "stock_data = get_tickers(filepath)"
   ]
  },
  {
   "cell_type": "code",
   "execution_count": 37,
   "metadata": {},
   "outputs": [
    {
     "name": "stdout",
     "output_type": "stream",
     "text": [
      "[*********************100%%**********************]  1 of 1 completed\n"
     ]
    }
   ],
   "source": [
    "# ----------------------------------------------------------\n",
    "# Set Parameters\n",
    "\n",
    "# Lookback period\n",
    "t = 20\n",
    "# Rebalancing period\n",
    "rebalance_every = 5\n",
    "# Long-Short or Long-only\n",
    "long_short = False\n",
    "# ----------------------------------------------------------\n",
    "\n",
    "# Run the strategy\n",
    "start_date = \"2010-01-01\"\n",
    "end_date = \"2024-01-01\"\n",
    "index = yf.download(index_ticker, start_date, end_date)['Adj Close']\n",
    "portfolio = construct_portfolio(stock_data, start_date = start_date, end_date = end_date, percentage_of_all_stocks_to_buy = 0.1, long_short = long_short, t = 20, rebalance_period_days = rebalance_every)\n",
    "returns = backtest(stock_data, portfolio, index, start_date = start_date, end_date = end_date)\n",
    "returns['daily_returns'].index = pd.to_datetime(returns['daily_returns'].index)\n",
    "qs.reports.metrics(returns=returns['daily_returns'], \n",
    "                benchmark=index_ticker,\n",
    "                mode = \"basic\", \n",
    "                title='Low Volatility Strategy vs. Index')\n",
    "qs.reports.plots(returns=returns['daily_returns'], \n",
    "                benchmark=index_ticker,\n",
    "                mode = \"full\",\n",
    "                output='report.html')"
   ]
  }
 ],
 "metadata": {
  "interpreter": {
   "hash": "c6d126c718002069272db3e639c28a7f5d727d20989aff76b68523838ee710d7"
  },
  "kernelspec": {
   "display_name": "Python 3.9.18 ('quant_lab')",
   "language": "python",
   "name": "python3"
  },
  "language_info": {
   "codemirror_mode": {
    "name": "ipython",
    "version": 3
   },
   "file_extension": ".py",
   "mimetype": "text/x-python",
   "name": "python",
   "nbconvert_exporter": "python",
   "pygments_lexer": "ipython3",
   "version": "3.9.18"
  },
  "orig_nbformat": 4
 },
 "nbformat": 4,
 "nbformat_minor": 2
}
